{
 "cells": [
  {
   "cell_type": "code",
   "execution_count": 3,
   "id": "8a3189a3",
   "metadata": {},
   "outputs": [],
   "source": [
    "import pandas as pd\n",
    "from sklearn.model_selection import train_test_split\n",
    "from sklearn.naive_bayes import GaussianNB\n",
    "from sklearn.metrics import accuracy_score, precision_score, recall_score\n",
    "import joblib\n",
    "import numpy as np \n",
    "import matplotlib.pyplot as plt \n",
    "import seaborn as sns"
   ]
  },
  {
   "cell_type": "code",
   "execution_count": 4,
   "id": "1a1f2181",
   "metadata": {},
   "outputs": [
    {
     "data": {
      "text/html": [
       "<div>\n",
       "<style scoped>\n",
       "    .dataframe tbody tr th:only-of-type {\n",
       "        vertical-align: middle;\n",
       "    }\n",
       "\n",
       "    .dataframe tbody tr th {\n",
       "        vertical-align: top;\n",
       "    }\n",
       "\n",
       "    .dataframe thead th {\n",
       "        text-align: right;\n",
       "    }\n",
       "</style>\n",
       "<table border=\"1\" class=\"dataframe\">\n",
       "  <thead>\n",
       "    <tr style=\"text-align: right;\">\n",
       "      <th></th>\n",
       "      <th>age</th>\n",
       "      <th>sex</th>\n",
       "      <th>cp</th>\n",
       "      <th>trestbps</th>\n",
       "      <th>chol</th>\n",
       "      <th>fbs</th>\n",
       "      <th>restecg</th>\n",
       "      <th>thalach</th>\n",
       "      <th>exang</th>\n",
       "      <th>oldpeak</th>\n",
       "      <th>slope</th>\n",
       "      <th>ca</th>\n",
       "      <th>thal</th>\n",
       "      <th>target</th>\n",
       "    </tr>\n",
       "  </thead>\n",
       "  <tbody>\n",
       "    <tr>\n",
       "      <th>0</th>\n",
       "      <td>70</td>\n",
       "      <td>1</td>\n",
       "      <td>3</td>\n",
       "      <td>130</td>\n",
       "      <td>322</td>\n",
       "      <td>0</td>\n",
       "      <td>2</td>\n",
       "      <td>109</td>\n",
       "      <td>0</td>\n",
       "      <td>2.4</td>\n",
       "      <td>1</td>\n",
       "      <td>3</td>\n",
       "      <td>1</td>\n",
       "      <td>1</td>\n",
       "    </tr>\n",
       "    <tr>\n",
       "      <th>1</th>\n",
       "      <td>67</td>\n",
       "      <td>0</td>\n",
       "      <td>2</td>\n",
       "      <td>115</td>\n",
       "      <td>564</td>\n",
       "      <td>0</td>\n",
       "      <td>2</td>\n",
       "      <td>160</td>\n",
       "      <td>0</td>\n",
       "      <td>1.6</td>\n",
       "      <td>1</td>\n",
       "      <td>0</td>\n",
       "      <td>3</td>\n",
       "      <td>0</td>\n",
       "    </tr>\n",
       "    <tr>\n",
       "      <th>2</th>\n",
       "      <td>57</td>\n",
       "      <td>1</td>\n",
       "      <td>1</td>\n",
       "      <td>124</td>\n",
       "      <td>261</td>\n",
       "      <td>0</td>\n",
       "      <td>0</td>\n",
       "      <td>141</td>\n",
       "      <td>0</td>\n",
       "      <td>0.3</td>\n",
       "      <td>0</td>\n",
       "      <td>0</td>\n",
       "      <td>3</td>\n",
       "      <td>1</td>\n",
       "    </tr>\n",
       "    <tr>\n",
       "      <th>3</th>\n",
       "      <td>64</td>\n",
       "      <td>1</td>\n",
       "      <td>3</td>\n",
       "      <td>128</td>\n",
       "      <td>263</td>\n",
       "      <td>0</td>\n",
       "      <td>0</td>\n",
       "      <td>105</td>\n",
       "      <td>1</td>\n",
       "      <td>0.2</td>\n",
       "      <td>1</td>\n",
       "      <td>1</td>\n",
       "      <td>3</td>\n",
       "      <td>0</td>\n",
       "    </tr>\n",
       "    <tr>\n",
       "      <th>4</th>\n",
       "      <td>74</td>\n",
       "      <td>0</td>\n",
       "      <td>1</td>\n",
       "      <td>120</td>\n",
       "      <td>269</td>\n",
       "      <td>0</td>\n",
       "      <td>2</td>\n",
       "      <td>121</td>\n",
       "      <td>1</td>\n",
       "      <td>0.2</td>\n",
       "      <td>0</td>\n",
       "      <td>1</td>\n",
       "      <td>1</td>\n",
       "      <td>0</td>\n",
       "    </tr>\n",
       "  </tbody>\n",
       "</table>\n",
       "</div>"
      ],
      "text/plain": [
       "   age  sex  cp  trestbps  chol  fbs  restecg  thalach  exang  oldpeak  slope  \\\n",
       "0   70    1   3       130   322    0        2      109      0      2.4      1   \n",
       "1   67    0   2       115   564    0        2      160      0      1.6      1   \n",
       "2   57    1   1       124   261    0        0      141      0      0.3      0   \n",
       "3   64    1   3       128   263    0        0      105      1      0.2      1   \n",
       "4   74    0   1       120   269    0        2      121      1      0.2      0   \n",
       "\n",
       "   ca  thal  target  \n",
       "0   3     1       1  \n",
       "1   0     3       0  \n",
       "2   0     3       1  \n",
       "3   1     3       0  \n",
       "4   1     1       0  "
      ]
     },
     "execution_count": 4,
     "metadata": {},
     "output_type": "execute_result"
    }
   ],
   "source": [
    "heart = pd.read_csv(\"Heart_disease_statlog.csv\")\n",
    "heart.head()"
   ]
  },
  {
   "cell_type": "code",
   "execution_count": 5,
   "id": "73fa578f",
   "metadata": {},
   "outputs": [
    {
     "name": "stdout",
     "output_type": "stream",
     "text": [
      "<class 'pandas.core.frame.DataFrame'>\n",
      "RangeIndex: 270 entries, 0 to 269\n",
      "Data columns (total 14 columns):\n",
      " #   Column    Non-Null Count  Dtype  \n",
      "---  ------    --------------  -----  \n",
      " 0   age       270 non-null    int64  \n",
      " 1   sex       270 non-null    int64  \n",
      " 2   cp        270 non-null    int64  \n",
      " 3   trestbps  270 non-null    int64  \n",
      " 4   chol      270 non-null    int64  \n",
      " 5   fbs       270 non-null    int64  \n",
      " 6   restecg   270 non-null    int64  \n",
      " 7   thalach   270 non-null    int64  \n",
      " 8   exang     270 non-null    int64  \n",
      " 9   oldpeak   270 non-null    float64\n",
      " 10  slope     270 non-null    int64  \n",
      " 11  ca        270 non-null    int64  \n",
      " 12  thal      270 non-null    int64  \n",
      " 13  target    270 non-null    int64  \n",
      "dtypes: float64(1), int64(13)\n",
      "memory usage: 29.7 KB\n"
     ]
    }
   ],
   "source": [
    "heart.info()"
   ]
  },
  {
   "cell_type": "code",
   "execution_count": 6,
   "id": "d6ad37ef",
   "metadata": {},
   "outputs": [
    {
     "data": {
      "text/plain": [
       "0    150\n",
       "1    120\n",
       "Name: target, dtype: int64"
      ]
     },
     "execution_count": 6,
     "metadata": {},
     "output_type": "execute_result"
    }
   ],
   "source": [
    "heart.target.value_counts()"
   ]
  },
  {
   "cell_type": "code",
   "execution_count": 7,
   "id": "69bc3759",
   "metadata": {},
   "outputs": [
    {
     "data": {
      "image/png": "[encoded data removed]",
      "text/plain": [
       "<Figure size 504x360 with 1 Axes>"
      ]
     },
     "metadata": {
      "needs_background": "light"
     },
     "output_type": "display_data"
    }
   ],
   "source": [
    "f, ax = plt.subplots(figsize=(7, 5))\n",
    "sns.countplot(y=\"target\", data=heart, palette=\"mako_r\");"
   ]
  },
  {
   "cell_type": "code",
   "execution_count": 8,
   "id": "3954ad12",
   "metadata": {},
   "outputs": [
    {
     "data": {
      "image/png": "[encoded data removed]",
      "text/plain": [
       "<Figure size 720x432 with 1 Axes>"
      ]
     },
     "metadata": {
      "needs_background": "light"
     },
     "output_type": "display_data"
    }
   ],
   "source": [
    "pd.crosstab(heart.sex,heart.target).plot(kind=\"bar\",figsize=(10,6),color=['blue','#AA1111' ])\n",
    "plt.title('Heart Disease Frequency for Sex')\n",
    "plt.xlabel('Sex (0 = Female, 1 = Male)')\n",
    "plt.xticks(rotation=0)\n",
    "plt.legend([\"Haven't Disease\", \"Have Disease\"])\n",
    "plt.ylabel('Frequency')\n",
    "plt.show()"
   ]
  },
  {
   "cell_type": "code",
   "execution_count": 9,
   "id": "d0aa0cfb",
   "metadata": {},
   "outputs": [
    {
     "data": {
      "image/png": "[encoded data removed]",
      "text/plain": [
       "<Figure size 432x288 with 1 Axes>"
      ]
     },
     "metadata": {
      "needs_background": "light"
     },
     "output_type": "display_data"
    }
   ],
   "source": [
    "sns.countplot(x='sex', data=heart, palette=\"bwr\")\n",
    "plt.xlabel(\"Sex (0 = female, 1= male)\")\n",
    "plt.show()"
   ]
  },
  {
   "cell_type": "code",
   "execution_count": 10,
   "id": "3ceca62a",
   "metadata": {},
   "outputs": [
    {
     "data": {
      "image/png": "[encoded data removed]",
      "text/plain": [
       "<Figure size 1080x432 with 1 Axes>"
      ]
     },
     "metadata": {
      "needs_background": "light"
     },
     "output_type": "display_data"
    }
   ],
   "source": [
    "plt.figure(figsize=(15,6))\n",
    "sns.countplot(x='age',data = heart, hue = 'target',palette='mako_r')\n",
    "plt.show()"
   ]
  },
  {
   "cell_type": "code",
   "execution_count": 11,
   "id": "193e9fe4",
   "metadata": {},
   "outputs": [
    {
     "data": {
      "text/html": [
       "<div>\n",
       "<style scoped>\n",
       "    .dataframe tbody tr th:only-of-type {\n",
       "        vertical-align: middle;\n",
       "    }\n",
       "\n",
       "    .dataframe tbody tr th {\n",
       "        vertical-align: top;\n",
       "    }\n",
       "\n",
       "    .dataframe thead th {\n",
       "        text-align: right;\n",
       "    }\n",
       "</style>\n",
       "<table border=\"1\" class=\"dataframe\">\n",
       "  <thead>\n",
       "    <tr style=\"text-align: right;\">\n",
       "      <th></th>\n",
       "      <th>age</th>\n",
       "      <th>sex</th>\n",
       "      <th>cp</th>\n",
       "      <th>trestbps</th>\n",
       "      <th>chol</th>\n",
       "      <th>fbs</th>\n",
       "      <th>restecg</th>\n",
       "      <th>thalach</th>\n",
       "      <th>exang</th>\n",
       "      <th>oldpeak</th>\n",
       "      <th>slope</th>\n",
       "      <th>ca</th>\n",
       "      <th>thal</th>\n",
       "    </tr>\n",
       "  </thead>\n",
       "  <tbody>\n",
       "    <tr>\n",
       "      <th>0</th>\n",
       "      <td>70</td>\n",
       "      <td>1</td>\n",
       "      <td>3</td>\n",
       "      <td>130</td>\n",
       "      <td>322</td>\n",
       "      <td>0</td>\n",
       "      <td>2</td>\n",
       "      <td>109</td>\n",
       "      <td>0</td>\n",
       "      <td>2.4</td>\n",
       "      <td>1</td>\n",
       "      <td>3</td>\n",
       "      <td>1</td>\n",
       "    </tr>\n",
       "    <tr>\n",
       "      <th>1</th>\n",
       "      <td>67</td>\n",
       "      <td>0</td>\n",
       "      <td>2</td>\n",
       "      <td>115</td>\n",
       "      <td>564</td>\n",
       "      <td>0</td>\n",
       "      <td>2</td>\n",
       "      <td>160</td>\n",
       "      <td>0</td>\n",
       "      <td>1.6</td>\n",
       "      <td>1</td>\n",
       "      <td>0</td>\n",
       "      <td>3</td>\n",
       "    </tr>\n",
       "    <tr>\n",
       "      <th>2</th>\n",
       "      <td>57</td>\n",
       "      <td>1</td>\n",
       "      <td>1</td>\n",
       "      <td>124</td>\n",
       "      <td>261</td>\n",
       "      <td>0</td>\n",
       "      <td>0</td>\n",
       "      <td>141</td>\n",
       "      <td>0</td>\n",
       "      <td>0.3</td>\n",
       "      <td>0</td>\n",
       "      <td>0</td>\n",
       "      <td>3</td>\n",
       "    </tr>\n",
       "    <tr>\n",
       "      <th>3</th>\n",
       "      <td>64</td>\n",
       "      <td>1</td>\n",
       "      <td>3</td>\n",
       "      <td>128</td>\n",
       "      <td>263</td>\n",
       "      <td>0</td>\n",
       "      <td>0</td>\n",
       "      <td>105</td>\n",
       "      <td>1</td>\n",
       "      <td>0.2</td>\n",
       "      <td>1</td>\n",
       "      <td>1</td>\n",
       "      <td>3</td>\n",
       "    </tr>\n",
       "    <tr>\n",
       "      <th>4</th>\n",
       "      <td>74</td>\n",
       "      <td>0</td>\n",
       "      <td>1</td>\n",
       "      <td>120</td>\n",
       "      <td>269</td>\n",
       "      <td>0</td>\n",
       "      <td>2</td>\n",
       "      <td>121</td>\n",
       "      <td>1</td>\n",
       "      <td>0.2</td>\n",
       "      <td>0</td>\n",
       "      <td>1</td>\n",
       "      <td>1</td>\n",
       "    </tr>\n",
       "  </tbody>\n",
       "</table>\n",
       "</div>"
      ],
      "text/plain": [
       "   age  sex  cp  trestbps  chol  fbs  restecg  thalach  exang  oldpeak  slope  \\\n",
       "0   70    1   3       130   322    0        2      109      0      2.4      1   \n",
       "1   67    0   2       115   564    0        2      160      0      1.6      1   \n",
       "2   57    1   1       124   261    0        0      141      0      0.3      0   \n",
       "3   64    1   3       128   263    0        0      105      1      0.2      1   \n",
       "4   74    0   1       120   269    0        2      121      1      0.2      0   \n",
       "\n",
       "   ca  thal  \n",
       "0   3     1  \n",
       "1   0     3  \n",
       "2   0     3  \n",
       "3   1     3  \n",
       "4   1     1  "
      ]
     },
     "execution_count": 11,
     "metadata": {},
     "output_type": "execute_result"
    }
   ],
   "source": [
    "# Variabel independen\n",
    "x = heart.drop([\"target\"], axis = 1)\n",
    "x.head()"
   ]
  },
  {
   "cell_type": "code",
   "execution_count": 12,
   "id": "c134d6dd",
   "metadata": {},
   "outputs": [
    {
     "data": {
      "text/plain": [
       "0    1\n",
       "1    0\n",
       "2    1\n",
       "3    0\n",
       "4    0\n",
       "Name: target, dtype: int64"
      ]
     },
     "execution_count": 12,
     "metadata": {},
     "output_type": "execute_result"
    }
   ],
   "source": [
    "# Variabel dependen\n",
    "y = heart[\"target\"]\n",
    "y.head()"
   ]
  },
  {
   "cell_type": "code",
   "execution_count": 13,
   "id": "32c922f3",
   "metadata": {},
   "outputs": [],
   "source": [
    "from sklearn.model_selection import train_test_split"
   ]
  },
  {
   "cell_type": "code",
   "execution_count": 14,
   "id": "72649342",
   "metadata": {},
   "outputs": [],
   "source": [
    "x_train, x_test, y_train, y_test = train_test_split(x, y, test_size = 0.2, random_state =123)"
   ]
  },
  {
   "cell_type": "code",
   "execution_count": 15,
   "id": "860ab3fc",
   "metadata": {
    "scrolled": true
   },
   "outputs": [
    {
     "name": "stdout",
     "output_type": "stream",
     "text": [
      "     age  sex  cp  trestbps  chol  fbs  restecg  thalach  exang  oldpeak  \\\n",
      "166   50    0   3       110   254    0        2      159      0      0.0   \n",
      "79    56    1   1       120   236    0        0      178      0      0.8   \n",
      "5     65    1   3       120   177    0        0      140      0      0.4   \n",
      "4     74    0   1       120   269    0        2      121      1      0.2   \n",
      "127   52    0   2       136   196    0        2      169      0      0.1   \n",
      "..   ...  ...  ..       ...   ...  ...      ...      ...    ...      ...   \n",
      "106   51    1   2       100   222    0        0      143      1      1.2   \n",
      "83    41    1   2       130   214    0        2      168      0      2.0   \n",
      "17    53    1   3       140   203    1        2      155      1      3.1   \n",
      "230   61    0   3       145   307    0        2      146      1      1.0   \n",
      "98    64    0   2       140   313    0        0      133      0      0.2   \n",
      "\n",
      "     slope  ca  thal  \n",
      "166      0   0     1  \n",
      "79       0   0     1  \n",
      "5        0   0     3  \n",
      "4        0   1     1  \n",
      "127      1   0     1  \n",
      "..     ...  ..   ...  \n",
      "106      1   0     1  \n",
      "83       1   0     1  \n",
      "17       2   0     3  \n",
      "230      1   0     3  \n",
      "98       0   0     3  \n",
      "\n",
      "[216 rows x 13 columns]\n"
     ]
    }
   ],
   "source": [
    "print(x_train)"
   ]
  },
  {
   "cell_type": "code",
   "execution_count": 16,
   "id": "e3323c61",
   "metadata": {},
   "outputs": [
    {
     "name": "stdout",
     "output_type": "stream",
     "text": [
      "30     1\n",
      "239    0\n",
      "120    1\n",
      "29     0\n",
      "196    0\n",
      "193    1\n",
      "132    0\n",
      "20     1\n",
      "152    0\n",
      "248    1\n",
      "251    0\n",
      "255    0\n",
      "238    0\n",
      "243    1\n",
      "31     0\n",
      "187    0\n",
      "90     0\n",
      "210    1\n",
      "250    1\n",
      "160    1\n",
      "24     0\n",
      "217    0\n",
      "259    0\n",
      "150    0\n",
      "192    0\n",
      "19     0\n",
      "181    1\n",
      "42     0\n",
      "128    0\n",
      "142    1\n",
      "227    1\n",
      "201    1\n",
      "72     0\n",
      "82     1\n",
      "252    1\n",
      "261    1\n",
      "21     0\n",
      "100    0\n",
      "52     0\n",
      "221    1\n",
      "200    0\n",
      "215    0\n",
      "194    0\n",
      "125    0\n",
      "71     0\n",
      "130    1\n",
      "53     0\n",
      "28     1\n",
      "246    1\n",
      "268    0\n",
      "61     1\n",
      "33     1\n",
      "37     1\n",
      "89     1\n",
      "Name: target, dtype: int64\n"
     ]
    }
   ],
   "source": [
    "print(y_test)"
   ]
  },
  {
   "cell_type": "code",
   "execution_count": 17,
   "id": "b8c68708",
   "metadata": {},
   "outputs": [],
   "source": [
    "from sklearn.naive_bayes import GaussianNB\n",
    "modelnb = GaussianNB()\n",
    "nbtrain = modelnb.fit(x_train, y_train)"
   ]
  },
  {
   "cell_type": "code",
   "execution_count": 18,
   "id": "e931eec3",
   "metadata": {},
   "outputs": [
    {
     "data": {
      "text/plain": [
       "array([120.,  96.])"
      ]
     },
     "execution_count": 18,
     "metadata": {},
     "output_type": "execute_result"
    }
   ],
   "source": [
    "nbtrain.class_count_"
   ]
  },
  {
   "cell_type": "code",
   "execution_count": 19,
   "id": "a37161e7",
   "metadata": {},
   "outputs": [
    {
     "name": "stdout",
     "output_type": "stream",
     "text": [
      "(270, 13) (216,) (54,)\n"
     ]
    }
   ],
   "source": [
    "print(x.shape, y_train.shape, y_test.shape)"
   ]
  },
  {
   "cell_type": "code",
   "execution_count": 20,
   "id": "a9546be6",
   "metadata": {},
   "outputs": [
    {
     "data": {
      "text/plain": [
       "array([1, 0, 1, 0, 0, 1, 0, 1, 0, 1, 0, 0, 0, 1, 1, 1, 0, 0, 1, 1, 0, 1,\n",
       "       0, 0, 0, 0, 1, 0, 0, 1, 1, 1, 0, 1, 0, 1, 0, 0, 0, 1, 1, 0, 0, 0,\n",
       "       0, 1, 0, 1, 1, 0, 1, 1, 0, 1], dtype=int64)"
      ]
     },
     "execution_count": 20,
     "metadata": {},
     "output_type": "execute_result"
    }
   ],
   "source": [
    "# Menentukan hasil prediksi dari x_test\n",
    "y_pred = nbtrain.predict(x_test)\n",
    "y_pred"
   ]
  },
  {
   "cell_type": "code",
   "execution_count": 21,
   "id": "2791402a",
   "metadata": {},
   "outputs": [
    {
     "data": {
      "text/plain": [
       "array([1, 0, 1, 0, 0, 1, 0, 1, 0, 1, 0, 0, 0, 1, 0, 0, 0, 1, 1, 1, 0, 0,\n",
       "       0, 0, 0, 0, 1, 0, 0, 1, 1, 1, 0, 1, 1, 1, 0, 0, 0, 1, 0, 0, 0, 0,\n",
       "       0, 1, 0, 1, 1, 0, 1, 1, 1, 1], dtype=int64)"
      ]
     },
     "execution_count": 21,
     "metadata": {},
     "output_type": "execute_result"
    }
   ],
   "source": [
    "y_actual = np.array(y_test)\n",
    "y_actual"
   ]
  },
  {
   "cell_type": "code",
   "execution_count": 22,
   "id": "45c27d55",
   "metadata": {},
   "outputs": [
    {
     "data": {
      "text/plain": [
       "array([[2.38739855e-01, 7.61260145e-01],\n",
       "       [9.99665744e-01, 3.34256028e-04],\n",
       "       [2.46900297e-05, 9.99975310e-01],\n",
       "       [9.78785139e-01, 2.12148615e-02],\n",
       "       [9.38433660e-01, 6.15663402e-02],\n",
       "       [3.28410924e-01, 6.71589076e-01],\n",
       "       [9.97114222e-01, 2.88577776e-03],\n",
       "       [2.42418498e-06, 9.99997576e-01],\n",
       "       [9.99507419e-01, 4.92581040e-04],\n",
       "       [4.96162712e-01, 5.03837288e-01],\n",
       "       [9.99822577e-01, 1.77423079e-04],\n",
       "       [9.67282680e-01, 3.27173203e-02],\n",
       "       [9.93928715e-01, 6.07128480e-03],\n",
       "       [2.01100980e-03, 9.97988990e-01],\n",
       "       [1.21754723e-01, 8.78245277e-01],\n",
       "       [6.34138692e-05, 9.99936586e-01],\n",
       "       [9.81394058e-01, 1.86059415e-02],\n",
       "       [9.71204823e-01, 2.87951771e-02],\n",
       "       [2.07858214e-02, 9.79214179e-01],\n",
       "       [3.60019407e-01, 6.39980593e-01],\n",
       "       [9.84064009e-01, 1.59359906e-02],\n",
       "       [8.13993297e-02, 9.18600670e-01],\n",
       "       [9.84540798e-01, 1.54592021e-02],\n",
       "       [9.99319647e-01, 6.80353041e-04],\n",
       "       [9.85460117e-01, 1.45398826e-02],\n",
       "       [9.94354774e-01, 5.64522565e-03],\n",
       "       [5.85075549e-04, 9.99414924e-01],\n",
       "       [9.72648964e-01, 2.73510356e-02],\n",
       "       [9.97759970e-01, 2.24003037e-03],\n",
       "       [4.86554099e-01, 5.13445901e-01],\n",
       "       [5.26038878e-03, 9.94739611e-01],\n",
       "       [1.62859800e-02, 9.83714020e-01],\n",
       "       [9.92596274e-01, 7.40372647e-03],\n",
       "       [1.81286468e-03, 9.98187135e-01],\n",
       "       [9.51994882e-01, 4.80051178e-02],\n",
       "       [5.40258018e-06, 9.99994597e-01],\n",
       "       [9.98937490e-01, 1.06251019e-03],\n",
       "       [9.99906898e-01, 9.31020383e-05],\n",
       "       [9.95209068e-01, 4.79093239e-03],\n",
       "       [8.41023372e-04, 9.99158977e-01],\n",
       "       [4.38871169e-01, 5.61128831e-01],\n",
       "       [9.99972266e-01, 2.77339284e-05],\n",
       "       [7.59370938e-01, 2.40629062e-01],\n",
       "       [9.97083346e-01, 2.91665400e-03],\n",
       "       [9.72156349e-01, 2.78436510e-02],\n",
       "       [2.08543863e-02, 9.79145614e-01],\n",
       "       [9.95167131e-01, 4.83286878e-03],\n",
       "       [4.44322289e-02, 9.55567771e-01],\n",
       "       [5.17651163e-02, 9.48234884e-01],\n",
       "       [8.21563681e-01, 1.78436319e-01],\n",
       "       [1.39367448e-01, 8.60632552e-01],\n",
       "       [7.78089563e-06, 9.99992219e-01],\n",
       "       [9.98777918e-01, 1.22208243e-03],\n",
       "       [7.63847904e-03, 9.92361521e-01]])"
      ]
     },
     "execution_count": 22,
     "metadata": {},
     "output_type": "execute_result"
    }
   ],
   "source": [
    "nbtrain.predict_proba(x_test)"
   ]
  },
  {
   "cell_type": "code",
   "execution_count": 23,
   "id": "aab81b79",
   "metadata": {},
   "outputs": [],
   "source": [
    "from sklearn.metrics import confusion_matrix"
   ]
  },
  {
   "cell_type": "code",
   "execution_count": 24,
   "id": "fce5d773",
   "metadata": {},
   "outputs": [
    {
     "data": {
      "text/plain": [
       "array([[26,  4],\n",
       "       [ 3, 21]], dtype=int64)"
      ]
     },
     "execution_count": 24,
     "metadata": {},
     "output_type": "execute_result"
    }
   ],
   "source": [
    "confusion_matrix(y_test, y_pred)"
   ]
  },
  {
   "cell_type": "code",
   "execution_count": 25,
   "id": "15191f28",
   "metadata": {},
   "outputs": [
    {
     "data": {
      "text/html": [
       "<div>\n",
       "<style scoped>\n",
       "    .dataframe tbody tr th:only-of-type {\n",
       "        vertical-align: middle;\n",
       "    }\n",
       "\n",
       "    .dataframe tbody tr th {\n",
       "        vertical-align: top;\n",
       "    }\n",
       "\n",
       "    .dataframe thead th {\n",
       "        text-align: right;\n",
       "    }\n",
       "</style>\n",
       "<table border=\"1\" class=\"dataframe\">\n",
       "  <thead>\n",
       "    <tr style=\"text-align: right;\">\n",
       "      <th>prediction</th>\n",
       "      <th>0</th>\n",
       "      <th>1</th>\n",
       "    </tr>\n",
       "    <tr>\n",
       "      <th>actual</th>\n",
       "      <th></th>\n",
       "      <th></th>\n",
       "    </tr>\n",
       "  </thead>\n",
       "  <tbody>\n",
       "    <tr>\n",
       "      <th>0</th>\n",
       "      <td>26</td>\n",
       "      <td>4</td>\n",
       "    </tr>\n",
       "    <tr>\n",
       "      <th>1</th>\n",
       "      <td>3</td>\n",
       "      <td>21</td>\n",
       "    </tr>\n",
       "  </tbody>\n",
       "</table>\n",
       "</div>"
      ],
      "text/plain": [
       "prediction   0   1\n",
       "actual            \n",
       "0           26   4\n",
       "1            3  21"
      ]
     },
     "execution_count": 25,
     "metadata": {},
     "output_type": "execute_result"
    }
   ],
   "source": [
    "y_actual = pd.Series([1,0,1,0,0,1,0,1,0,1,0,0,0,1,0,0,0,1,1,1,0,0,0,0,0,0,1,0,0,1,1,1,\n",
    "                      0,1,1,1,0,0,0,1,0,0,0,0,0,1,0,1,1,0,1,1,1,1], name = \"actual\")\n",
    "y_pred = pd.Series([1, 0, 1, 0, 0, 1, 0, 1, 0, 1, 0, 0, 0, 1, 1, 1, 0, 0, 1, 1, 0, 1,\n",
    "       0, 0, 0, 0, 1, 0, 0, 1, 1, 1, 0, 1, 0, 1, 0, 0, 0, 1, 1, 0, 0, 0,\n",
    "       0, 1, 0, 1, 1, 0, 1, 1, 0, 1], name = \"prediction\")\n",
    "df_confusion = pd.crosstab(y_actual, y_pred)\n",
    "df_confusion"
   ]
  },
  {
   "cell_type": "code",
   "execution_count": 26,
   "id": "ae8ba7ac",
   "metadata": {},
   "outputs": [
    {
     "data": {
      "text/plain": [
       "<AxesSubplot:title={'center':'Naive Bayes Confusion Matrix'}>"
      ]
     },
     "execution_count": 26,
     "metadata": {},
     "output_type": "execute_result"
    },
    {
     "data": {
      "image/png": "[encoded data removed]",
      "text/plain": [
       "<Figure size 504x360 with 1 Axes>"
      ]
     },
     "metadata": {
      "needs_background": "light"
     },
     "output_type": "display_data"
    }
   ],
   "source": [
    "cm_nb=confusion_matrix(y_test,y_pred)\n",
    "#Membuat Confusion Matrix\n",
    "plt.figure(figsize=(7,5))\n",
    "plt.title(\"Naive Bayes Confusion Matrix\",fontsize=15, style='oblique')\n",
    "sns.heatmap(cm_nb,annot=True,cmap=\"rocket\",fmt=\"d\",cbar=False, annot_kws={\"size\": 15})"
   ]
  },
  {
   "cell_type": "code",
   "execution_count": 27,
   "id": "e257e497",
   "metadata": {},
   "outputs": [
    {
     "name": "stdout",
     "output_type": "stream",
     "text": [
      "              precision    recall  f1-score   support\n",
      "\n",
      "           0       0.90      0.87      0.88        30\n",
      "           1       0.84      0.88      0.86        24\n",
      "\n",
      "    accuracy                           0.87        54\n",
      "   macro avg       0.87      0.87      0.87        54\n",
      "weighted avg       0.87      0.87      0.87        54\n",
      "\n"
     ]
    }
   ],
   "source": [
    "from sklearn.metrics import classification_report\n",
    "print(classification_report(y_actual, y_pred))"
   ]
  },
  {
   "cell_type": "code",
   "execution_count": 28,
   "id": "de46e51d",
   "metadata": {},
   "outputs": [
    {
     "name": "stdout",
     "output_type": "stream",
     "text": [
      "Akurasi: 0.8703703703703703\n",
      "Presisi: 0.84\n",
      "Recall: 0.875\n"
     ]
    }
   ],
   "source": [
    "from sklearn.model_selection import train_test_split\n",
    "from sklearn.naive_bayes import GaussianNB\n",
    "from sklearn.metrics import accuracy_score, precision_score, recall_score\n",
    "import pandas as pd\n",
    "\n",
    "# Load data (contoh menggunakan pandas)\n",
    "data = pd.read_csv('Heart_disease_statlog.csv')\n",
    "\n",
    "# Pisahkan fitur dan label\n",
    "X = data.drop('target', axis=1)\n",
    "y = data['target']\n",
    "\n",
    "# Bagi data menjadi set pelatihan dan pengujian\n",
    "X_train, X_test, y_train, y_test = train_test_split(X, y, test_size=0.2, random_state=123)\n",
    "\n",
    "# Inisialisasi dan latih model Naive Bayes\n",
    "model = GaussianNB()\n",
    "model.fit(X_train, y_train)\n",
    "\n",
    "# Prediksi\n",
    "y_pred = model.predict(X_test)\n",
    "\n",
    "# Evaluasi model\n",
    "accuracy = accuracy_score(y_test, y_pred)\n",
    "precision = precision_score(y_test, y_pred)\n",
    "recall = recall_score(y_test, y_pred)\n",
    "\n",
    "print(\"Akurasi:\", accuracy)\n",
    "print(\"Presisi:\", precision)\n",
    "print(\"Recall:\", recall)"
   ]
  },
  {
   "cell_type": "code",
   "execution_count": 29,
   "id": "b989d1a8",
   "metadata": {},
   "outputs": [
    {
     "name": "stdout",
     "output_type": "stream",
     "text": [
      "Akurasi: 0.8703703703703703\n",
      "Presisi: 0.84\n",
      "Recall: 0.875\n"
     ]
    },
    {
     "data": {
      "text/plain": [
       "['heart_disease_model.pkl']"
      ]
     },
     "execution_count": 29,
     "metadata": {},
     "output_type": "execute_result"
    }
   ],
   "source": [
    "import pandas as pd\n",
    "from sklearn.model_selection import train_test_split\n",
    "from sklearn.naive_bayes import GaussianNB\n",
    "from sklearn.metrics import accuracy_score, precision_score, recall_score\n",
    "import joblib\n",
    "\n",
    "# Load data (contoh menggunakan pandas)\n",
    "data = pd.read_csv('Heart_disease_statlog.csv')\n",
    "\n",
    "# Pisahkan fitur dan label\n",
    "X = data.drop('target', axis=1)\n",
    "y = data['target']\n",
    "\n",
    "# Bagi data menjadi set pelatihan dan pengujian\n",
    "X_train, X_test, y_train, y_test = train_test_split(X, y, test_size=0.2, random_state=123)\n",
    "\n",
    "# Inisialisasi dan latih model Naive Bayes\n",
    "model = GaussianNB()\n",
    "model.fit(X_train, y_train)\n",
    "\n",
    "# Prediksi\n",
    "y_pred = model.predict(X_test)\n",
    "\n",
    "# Evaluasi model\n",
    "accuracy = accuracy_score(y_test, y_pred)\n",
    "precision = precision_score(y_test, y_pred)\n",
    "recall = recall_score(y_test, y_pred)\n",
    "\n",
    "print(\"Akurasi:\", accuracy)\n",
    "print(\"Presisi:\", precision)\n",
    "print(\"Recall:\", recall)\n",
    "\n",
    "# Simpan model ke file\n",
    "joblib.dump(model, 'heart_disease_model.pkl')\n"
   ]
  },
  {
   "cell_type": "code",
   "execution_count": 30,
   "id": "206d2aac",
   "metadata": {},
   "outputs": [
    {
     "data": {
      "image/png": "[encoded data removed]",
      "text/plain": [
       "<Figure size 720x360 with 8 Axes>"
      ]
     },
     "metadata": {},
     "output_type": "display_data"
    }
   ],
   "source": [
    "# Dengan asumsi 'heart' adalah DataFrame Anda\n",
    "sns.set(rc={'figure.figsize': (10, 5)})\n",
    "fig, axes = plt.subplots(2, 4)\n",
    "\n",
    "sns.countplot(data=heart, x='sex', ax=axes[0, 0]).set(title='Gender')\n",
    "sns.countplot(data=heart, x='cp', ax=axes[0, 1]).set(title='CP')\n",
    "sns.countplot(data=heart, x='fbs', ax=axes[0, 2]).set(title='FBS')\n",
    "sns.countplot(data=heart, x='restecg', ax=axes[0, 3]).set(title='Rest ECG')\n",
    "sns.countplot(data=heart, x='exang', ax=axes[1, 0]).set(title='Exercise Induced Angina')\n",
    "sns.countplot(data=heart, x='slope', ax=axes[1, 1]).set(title='Slope')\n",
    "sns.countplot(data=heart, x='ca', ax=axes[1, 2]).set(title='CA')\n",
    "sns.countplot(data=heart, x='thal', ax=axes[1, 3]).set(title='Thal')\n",
    "\n",
    "plt.tight_layout()\n",
    "plt.show()"
   ]
  },
  {
   "cell_type": "code",
   "execution_count": 31,
   "id": "1c456ee4",
   "metadata": {},
   "outputs": [
    {
     "data": {
      "image/png": "[encoded data removed]",
      "text/plain": [
       "<Figure size 1080x432 with 1 Axes>"
      ]
     },
     "metadata": {},
     "output_type": "display_data"
    }
   ],
   "source": [
    "plt.figure(figsize=(15,6))\n",
    "sns.countplot(x='age',data = heart, hue = 'target',palette='inferno')\n",
    "plt.show()"
   ]
  },
  {
   "cell_type": "code",
   "execution_count": 32,
   "id": "ac59e12b",
   "metadata": {},
   "outputs": [
    {
     "data": {
      "text/plain": [
       "<AxesSubplot:>"
      ]
     },
     "execution_count": 32,
     "metadata": {},
     "output_type": "execute_result"
    },
    {
     "data": {
      "image/png": "[encoded data removed]",
      "text/plain": [
       "<Figure size 720x360 with 2 Axes>"
      ]
     },
     "metadata": {},
     "output_type": "display_data"
    }
   ],
   "source": [
    "# buat peta panas menggunakan Seaborn\n",
    "sns.heatmap(heart.corr(), cmap='coolwarm', annot=True)"
   ]
  },
  {
   "cell_type": "code",
   "execution_count": 33,
   "id": "455472bf",
   "metadata": {},
   "outputs": [
    {
     "data": {
      "image/png": "[encoded data removed]",
      "text/plain": [
       "<Figure size 720x360 with 1 Axes>"
      ]
     },
     "metadata": {},
     "output_type": "display_data"
    }
   ],
   "source": [
    "sns.countplot(x='sex', data=heart, palette=\"plasma\")\n",
    "plt.xlabel(\"jenis kelamin (0 = perempuan, 1= laki-laki)\")\n",
    "plt.show()"
   ]
  },
  {
   "cell_type": "code",
   "execution_count": 34,
   "id": "198c5026",
   "metadata": {},
   "outputs": [
    {
     "data": {
      "image/png": "[encoded data removed]",
      "text/plain": [
       "<Figure size 720x360 with 1 Axes>"
      ]
     },
     "metadata": {},
     "output_type": "display_data"
    }
   ],
   "source": [
    "sns.boxplot(heart=heart[['age','trestbps','chol','thalach']])\n",
    "plt.xticks(rotation=50)\n",
    "plt.show()"
   ]
  },
  {
   "cell_type": "code",
   "execution_count": 35,
   "id": "0cf8dab7",
   "metadata": {},
   "outputs": [
    {
     "name": "stdout",
     "output_type": "stream",
     "text": [
      "Akurasi: 0.8703703703703703\n",
      "Presisi: 0.84\n",
      "Recall: 0.875\n",
      "F1 Score: 0.8571428571428572\n"
     ]
    },
    {
     "data": {
      "image/png": "[encoded data removed]",
      "text/plain": [
       "<Figure size 720x504 with 2 Axes>"
      ]
     },
     "metadata": {},
     "output_type": "display_data"
    },
    {
     "data": {
      "text/plain": [
       "['heart_disease_model.pkl']"
      ]
     },
     "execution_count": 35,
     "metadata": {},
     "output_type": "execute_result"
    }
   ],
   "source": [
    "from sklearn.model_selection import train_test_split\n",
    "from sklearn.naive_bayes import GaussianNB\n",
    "from sklearn.metrics import accuracy_score, precision_score, recall_score, f1_score, confusion_matrix\n",
    "import pandas as pd\n",
    "import seaborn as sns\n",
    "import matplotlib.pyplot as plt\n",
    "import joblib\n",
    "\n",
    "# Membaca data\n",
    "data = pd.read_csv('Heart_disease_statlog.csv')\n",
    "\n",
    "# Memisahkan fitur dan target\n",
    "X = data.drop('target', axis=1)\n",
    "y = data['target']\n",
    "\n",
    "# Membagi data menjadi training dan testing\n",
    "X_train, X_test, y_train, y_test = train_test_split(X, y, test_size=0.2, random_state=123)\n",
    "\n",
    "# Melatih model\n",
    "model = GaussianNB()\n",
    "model.fit(X_train, y_train)\n",
    "\n",
    "# Prediksi\n",
    "y_pred = model.predict(X_test)\n",
    "\n",
    "# Evaluasi model\n",
    "accuracy = accuracy_score(y_test, y_pred)\n",
    "precision = precision_score(y_test, y_pred)\n",
    "recall = recall_score(y_test, y_pred)\n",
    "f1 = f1_score(y_test, y_pred)\n",
    "\n",
    "print(\"Akurasi:\", accuracy)\n",
    "print(\"Presisi:\", precision)\n",
    "print(\"Recall:\", recall)\n",
    "print(\"F1 Score:\", f1)\n",
    "\n",
    "# Membuat confusion matrix\n",
    "cm = confusion_matrix(y_test, y_pred)\n",
    "\n",
    "# Menampilkan confusion matrix dengan seaborn\n",
    "plt.figure(figsize=(10,7))\n",
    "sns.heatmap(cm, annot=True, fmt='d', cmap='Blues')\n",
    "plt.xlabel('Predicted')\n",
    "plt.ylabel('True')\n",
    "plt.title('Confusion Matrix')\n",
    "plt.show()\n",
    "\n",
    "# Simpan model ke file\n",
    "joblib.dump(model, 'heart_disease_model.pkl')"
   ]
  },
  {
   "cell_type": "code",
   "execution_count": 36,
   "id": "abf7ac6d",
   "metadata": {},
   "outputs": [
    {
     "name": "stdout",
     "output_type": "stream",
     "text": [
      "Akurasi: 0.8703703703703703\n",
      "Presisi: 0.84\n",
      "Recall: 0.875\n",
      "F1 Score: 0.8571428571428572\n"
     ]
    },
    {
     "data": {
      "image/png": "[encoded data removed]",
      "text/plain": [
       "<Figure size 720x504 with 2 Axes>"
      ]
     },
     "metadata": {},
     "output_type": "display_data"
    },
    {
     "name": "stdout",
     "output_type": "stream",
     "text": [
      "\n",
      "Data Latihan:\n",
      "     age  sex  cp  trestbps  chol  fbs  restecg  thalach  exang  oldpeak  \\\n",
      "166   50    0   3       110   254    0        2      159      0      0.0   \n",
      "79    56    1   1       120   236    0        0      178      0      0.8   \n",
      "5     65    1   3       120   177    0        0      140      0      0.4   \n",
      "4     74    0   1       120   269    0        2      121      1      0.2   \n",
      "127   52    0   2       136   196    0        2      169      0      0.1   \n",
      "\n",
      "     slope  ca  thal  \n",
      "166      0   0     1  \n",
      "79       0   0     1  \n",
      "5        0   0     3  \n",
      "4        0   1     1  \n",
      "127      1   0     1  \n",
      "\n",
      "Label Latihan:\n",
      "166    0\n",
      "79     0\n",
      "5      0\n",
      "4      0\n",
      "127    0\n",
      "Name: target, dtype: int64\n"
     ]
    },
    {
     "data": {
      "text/plain": [
       "['heart_disease_model.pkl']"
      ]
     },
     "execution_count": 36,
     "metadata": {},
     "output_type": "execute_result"
    }
   ],
   "source": [
    "from sklearn.model_selection import train_test_split\n",
    "from sklearn.naive_bayes import GaussianNB\n",
    "from sklearn.metrics import accuracy_score, precision_score, recall_score, f1_score, confusion_matrix\n",
    "import pandas as pd\n",
    "import seaborn as sns\n",
    "import matplotlib.pyplot as plt\n",
    "import joblib\n",
    "\n",
    "# Membaca data\n",
    "data = pd.read_csv('Heart_disease_statlog.csv')\n",
    "\n",
    "# Memisahkan fitur dan target\n",
    "X = data.drop('target', axis=1)\n",
    "y = data['target']\n",
    "\n",
    "# Membagi data menjadi training dan testing\n",
    "X_train, X_test, y_train, y_test = train_test_split(X, y, test_size=0.2, random_state=123)\n",
    "\n",
    "# Melatih model\n",
    "model = GaussianNB()\n",
    "model.fit(X_train, y_train)\n",
    "\n",
    "# Prediksi\n",
    "y_pred = model.predict(X_test)\n",
    "\n",
    "# Evaluasi model\n",
    "accuracy = accuracy_score(y_test, y_pred)\n",
    "precision = precision_score(y_test, y_pred)\n",
    "recall = recall_score(y_test, y_pred)\n",
    "f1 = f1_score(y_test, y_pred)\n",
    "\n",
    "print(\"Akurasi:\", accuracy)\n",
    "print(\"Presisi:\", precision)\n",
    "print(\"Recall:\", recall)\n",
    "print(\"F1 Score:\", f1)\n",
    "\n",
    "# Membuat confusion matrix\n",
    "cm = confusion_matrix(y_test, y_pred)\n",
    "\n",
    "# Menampilkan confusion matrix dengan seaborn\n",
    "plt.figure(figsize=(10,7))\n",
    "sns.heatmap(cm, annot=True, fmt='d', cmap='Blues')\n",
    "plt.xlabel('Predicted')\n",
    "plt.ylabel('True')\n",
    "plt.title('Confusion Matrix')\n",
    "plt.show()\n",
    "\n",
    "# Menampilkan data latihan\n",
    "print(\"\\nData Latihan:\")\n",
    "print(X_train.head())\n",
    "print(\"\\nLabel Latihan:\")\n",
    "print(y_train.head())\n",
    "\n",
    "# Simpan model ke file\n",
    "joblib.dump(model, 'heart_disease_model.pkl')"
   ]
  },
  {
   "cell_type": "code",
   "execution_count": 37,
   "id": "3631c7d7",
   "metadata": {},
   "outputs": [
    {
     "name": "stdout",
     "output_type": "stream",
     "text": [
      "Akurasi: 0.8703703703703703\n",
      "Presisi: 0.84\n",
      "Recall: 0.875\n",
      "F1 Score: 0.8571428571428572\n"
     ]
    },
    {
     "data": {
      "image/png": "[encoded data removed]",
      "text/plain": [
       "<Figure size 720x504 with 2 Axes>"
      ]
     },
     "metadata": {},
     "output_type": "display_data"
    },
    {
     "name": "stdout",
     "output_type": "stream",
     "text": [
      "\n",
      "Data Uji dan Prediksi:\n",
      "     age  sex  cp  trestbps  chol  fbs  restecg  thalach  exang  oldpeak  \\\n",
      "30    57    1   2       128   229    0        2      150      0      0.4   \n",
      "239   52    1   1       120   325    0        0      172      0      0.2   \n",
      "120   49    1   2       120   188    0        0      139      0      2.0   \n",
      "29    71    0   2       110   265    1        2      130      0      0.0   \n",
      "196   58    0   3       100   248    0        2      122      0      1.0   \n",
      "\n",
      "     slope  ca  thal  Actual  Predicted  \n",
      "30       1   1     3       1          1  \n",
      "239      0   0     1       0          0  \n",
      "120      1   3     3       1          1  \n",
      "29       0   1     1       0          0  \n",
      "196      1   0     1       0          0  \n"
     ]
    },
    {
     "data": {
      "text/plain": [
       "['heart_disease_model.pkl']"
      ]
     },
     "execution_count": 37,
     "metadata": {},
     "output_type": "execute_result"
    }
   ],
   "source": [
    "from sklearn.model_selection import train_test_split\n",
    "from sklearn.naive_bayes import GaussianNB\n",
    "from sklearn.metrics import accuracy_score, precision_score, recall_score, f1_score, confusion_matrix\n",
    "import pandas as pd\n",
    "import seaborn as sns\n",
    "import matplotlib.pyplot as plt\n",
    "import joblib\n",
    "\n",
    "# Membaca data\n",
    "data = pd.read_csv('Heart_disease_statlog.csv')\n",
    "\n",
    "# Memisahkan fitur dan target\n",
    "X = data.drop('target', axis=1)\n",
    "y = data['target']\n",
    "\n",
    "# Membagi data menjadi training dan testing\n",
    "X_train, X_test, y_train, y_test = train_test_split(X, y, test_size=0.2, random_state=123)\n",
    "\n",
    "# Melatih model\n",
    "model = GaussianNB()\n",
    "model.fit(X_train, y_train)\n",
    "\n",
    "# Prediksi\n",
    "y_pred = model.predict(X_test)\n",
    "\n",
    "# Evaluasi model\n",
    "accuracy = accuracy_score(y_test, y_pred)\n",
    "precision = precision_score(y_test, y_pred)\n",
    "recall = recall_score(y_test, y_pred)\n",
    "f1 = f1_score(y_test, y_pred)\n",
    "\n",
    "print(\"Akurasi:\", accuracy)\n",
    "print(\"Presisi:\", precision)\n",
    "print(\"Recall:\", recall)\n",
    "print(\"F1 Score:\", f1)\n",
    "\n",
    "# Membuat confusion matrix\n",
    "cm = confusion_matrix(y_test, y_pred)\n",
    "\n",
    "# Menampilkan confusion matrix dengan seaborn\n",
    "plt.figure(figsize=(10,7))\n",
    "sns.heatmap(cm, annot=True, fmt='d', cmap='Blues')\n",
    "plt.xlabel('Predicted')\n",
    "plt.ylabel('True')\n",
    "plt.title('Confusion Matrix')\n",
    "plt.show()\n",
    "\n",
    "# Membuat DataFrame untuk menampilkan data uji dan prediksi\n",
    "df_test = X_test.copy()\n",
    "df_test['Actual'] = y_test\n",
    "df_test['Predicted'] = y_pred\n",
    "\n",
    "# Menampilkan DataFrame untuk data uji\n",
    "print(\"\\nData Uji dan Prediksi:\")\n",
    "print(df_test.head())\n",
    "\n",
    "# Simpan model ke file\n",
    "joblib.dump(model, 'heart_disease_model.pkl')"
   ]
  },
  {
   "cell_type": "code",
   "execution_count": null,
   "id": "922e8f55",
   "metadata": {},
   "outputs": [],
   "source": []
  }
 ],
 "metadata": {
  "kernelspec": {
   "display_name": "Python 3 (ipykernel)",
   "language": "python",
   "name": "python3"
  },
  "language_info": {
   "codemirror_mode": {
    "name": "ipython",
    "version": 3
   },
   "file_extension": ".py",
   "mimetype": "text/x-python",
   "name": "python",
   "nbconvert_exporter": "python",
   "pygments_lexer": "ipython3",
   "version": "3.9.12"
  }
 },
 "nbformat": 4,
 "nbformat_minor": 5
}
